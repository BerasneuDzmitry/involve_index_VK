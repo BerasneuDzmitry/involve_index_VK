{
 "cells": [
  {
   "cell_type": "markdown",
   "metadata": {},
   "source": [
    "### Расчет индекса вовлеченности групп https://vk.com/habr и https://vk.com/popularmechanics"
   ]
  },
  {
   "cell_type": "code",
   "execution_count": 1,
   "metadata": {},
   "outputs": [],
   "source": [
    "# Это отношение количества подписчиков группы к сумме комментариев, лайков и репостов всех записей за определенный период\n",
    "# Чем этот показатель меньше, тем более активно подписчики группы реагируют на публикуемый в ней контент.\n",
    "\n",
    "import requests\n",
    "from yaml import safe_load\n",
    "f = open('config.yaml', mode = 'r', encoding = 'utf-8')\n",
    "config = safe_load(f)\n",
    "token = config['access_token']\n",
    "\n",
    "# 100 постов группы хабр\n",
    "url = 'https://api.vk.com/method/wall.get'\n",
    "\n",
    "params = {\n",
    "    'domain': 'habr',\n",
    "    'filter': 'owner',\n",
    "    'count': 100,\n",
    "    'offset': 0,\n",
    "    'access_token': token,\n",
    "    'v': 5.73\n",
    "}\n",
    "data_habr = requests.get(url, params = params)\n",
    "\n",
    "# 100 постов группы механика\n",
    "url = 'https://api.vk.com/method/wall.get'\n",
    "\n",
    "params = {\n",
    "    'domain': 'popularmechanics',\n",
    "    'filter': 'owner',\n",
    "    'count': 100,\n",
    "    'offset': 0,\n",
    "    'access_token': token,\n",
    "    'v': 5.73\n",
    "}\n",
    "data_mech = requests.get(url, params = params)"
   ]
  },
  {
   "cell_type": "code",
   "execution_count": 2,
   "metadata": {},
   "outputs": [],
   "source": [
    "# Собираем статистику постов хабра\n",
    "Started = True\n",
    "stats_habr = {}\n",
    "for record in data_habr.json()['response']['items']:\n",
    "    if Started:\n",
    "        Started = False    \n",
    "    else:\n",
    "        if 'attachments' in record:\n",
    "            if 'link' in record['attachments'][0]:\n",
    "                title = record['attachments'][0]['link']['title']\n",
    "            elif 'photo' in record['attachments'][0]:\n",
    "                title = record['attachments'][0]['photo']['text']\n",
    "        elif 'copy_history' in record:\n",
    "            if 'link' in record['copy_history'][0]['attachments'][0]:\n",
    "                title = record['copy_history'][0]['attachments'][0]['link']['title']\n",
    "            elif 'poll' in record['copy_history'][0]['attachments'][0]:\n",
    "                title = record['copy_history'][0]['attachments'][0]['poll']['question']\n",
    "        stats_habr[title] = [record['comments']['count'], record['likes']['count'], record['reposts']['count'], record['date']]\n",
    "        \n",
    "# Собираем статистику постов механики\n",
    "Started = True\n",
    "stats_mech = {}\n",
    "for record in data_mech.json()['response']['items']:\n",
    "    if Started:\n",
    "        Started = False    \n",
    "    else:\n",
    "        if 'attachments' in record:\n",
    "            if 'link' in record['attachments'][0]:\n",
    "                title = record['attachments'][0]['link']['title']\n",
    "            elif 'photo' in record['attachments'][0]:\n",
    "                title = record['attachments'][0]['photo']['text']\n",
    "        elif 'copy_history' in record:\n",
    "            if 'link' in record['copy_history'][0]['attachments'][0]:\n",
    "                title = record['copy_history'][0]['attachments'][0]['link']['title']\n",
    "            elif 'poll' in record['copy_history'][0]['attachments'][0]:\n",
    "                title = record['copy_history'][0]['attachments'][0]['poll']['question']\n",
    "        stats_mech[title] = [record['comments']['count'], record['likes']['count'], record['reposts']['count'], record['date']]"
   ]
  },
  {
   "cell_type": "code",
   "execution_count": 3,
   "metadata": {},
   "outputs": [],
   "source": [
    "# Суммируем лайки, репосты и комменты постов хабра\n",
    "sum_habr = 0\n",
    "for line in stats_habr.values():\n",
    "    sum_habr += (line[0]+line[1]+line[2])    \n",
    "\n",
    "# Суммируем лайки, репосты и комменты постов механики\n",
    "sum_mech = 0\n",
    "for line in stats_mech.values():\n",
    "    sum_mech += (line[0]+line[1]+line[2])  "
   ]
  },
  {
   "cell_type": "code",
   "execution_count": 4,
   "metadata": {},
   "outputs": [],
   "source": [
    "# Получаем количество подписчиков хабра\n",
    "url = 'https://api.vk.com/method/groups.getMembers'\n",
    "params = {\n",
    "    'group_id': 'habr',\n",
    "    'v': 5.73,\n",
    "    'access_token': token\n",
    "}\n",
    "r_habr = requests.get(url, params = params)\n",
    "count_habr = r_habr.json()['response']['count']\n",
    "\n",
    "# Получаем количество подписчиков механики\n",
    "url = 'https://api.vk.com/method/groups.getMembers'\n",
    "params = {\n",
    "    'group_id': 'popularmechanics',\n",
    "    'v': 5.73,\n",
    "    'access_token': token\n",
    "}\n",
    "r_mech = requests.get(url, params = params)\n",
    "count_mech = r_mech.json()['response']['count']"
   ]
  },
  {
   "cell_type": "code",
   "execution_count": 5,
   "metadata": {},
   "outputs": [
    {
     "name": "stdout",
     "output_type": "stream",
     "text": [
      "112.6\n",
      "199.4\n"
     ]
    }
   ],
   "source": [
    "# Расчитываем индексы вовлеченности групп и печатаем их\n",
    "involve_habr = round(count_habr / sum_habr, 1)\n",
    "involve_mech = round(count_mech / sum_mech, 1)\n",
    "print(involve_habr)\n",
    "print(involve_mech)"
   ]
  },
  {
   "cell_type": "code",
   "execution_count": null,
   "metadata": {},
   "outputs": [],
   "source": []
  }
 ],
 "metadata": {
  "kernelspec": {
   "display_name": "Python 3",
   "language": "python",
   "name": "python3"
  },
  "language_info": {
   "codemirror_mode": {
    "name": "ipython",
    "version": 3
   },
   "file_extension": ".py",
   "mimetype": "text/x-python",
   "name": "python",
   "nbconvert_exporter": "python",
   "pygments_lexer": "ipython3",
   "version": "3.7.6"
  }
 },
 "nbformat": 4,
 "nbformat_minor": 4
}
